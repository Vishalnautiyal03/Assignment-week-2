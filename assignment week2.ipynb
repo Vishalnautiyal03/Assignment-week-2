{
 "cells": [
  {
   "cell_type": "markdown",
   "id": "8a7c11dd-be12-40b4-a7c7-f7e6344d69c9",
   "metadata": {},
   "source": [
    "###This is the type of Comments\n"
   ]
  },
  {
   "cell_type": "code",
   "execution_count": 6,
   "id": "dcd68808-9783-43a6-8fc1-d40920ed6f33",
   "metadata": {},
   "outputs": [
    {
     "data": {
      "text/plain": [
       "'\" This is multi line comment'"
      ]
     },
     "execution_count": 6,
     "metadata": {},
     "output_type": "execute_result"
    }
   ],
   "source": [
    "\"\"\"\" This is multi line comment\"\"\"\n"
   ]
  },
  {
   "cell_type": "markdown",
   "id": "3fec2d3d-e934-4fee-96e8-ac1b9bb8c9e0",
   "metadata": {},
   "source": [
    "###Variable are used to assingn value ##\n"
   ]
  },
  {
   "cell_type": "code",
   "execution_count": 39,
   "id": "bae0d9c3-ce98-4ca7-b4b3-ecb73df5d8f0",
   "metadata": {},
   "outputs": [],
   "source": [
    "####Answer2\n",
    "\n",
    "\n",
    "a=10"
   ]
  },
  {
   "cell_type": "code",
   "execution_count": 10,
   "id": "d2593d60-2735-479f-87a8-29105e2f0eae",
   "metadata": {},
   "outputs": [],
   "source": [
    "b=5"
   ]
  },
  {
   "cell_type": "code",
   "execution_count": 11,
   "id": "add9069d-48d4-4a45-99cb-446b9da1318f",
   "metadata": {},
   "outputs": [
    {
     "data": {
      "text/plain": [
       "15"
      ]
     },
     "execution_count": 11,
     "metadata": {},
     "output_type": "execute_result"
    }
   ],
   "source": [
    "a+b"
   ]
  },
  {
   "cell_type": "code",
   "execution_count": 40,
   "id": "c58cc5c1-975b-4c16-9b41-43d2837b63d7",
   "metadata": {},
   "outputs": [],
   "source": [
    "###answe 3\n",
    "\n",
    "\n",
    "x=2"
   ]
  },
  {
   "cell_type": "code",
   "execution_count": 25,
   "id": "324b22ca-2740-4147-ac23-1592138711e9",
   "metadata": {},
   "outputs": [],
   "source": [
    "y=1.5"
   ]
  },
  {
   "cell_type": "code",
   "execution_count": 41,
   "id": "46a17457-881a-4f3b-a894-6651b9a82646",
   "metadata": {},
   "outputs": [
    {
     "data": {
      "text/plain": [
       "3.5"
      ]
     },
     "execution_count": 41,
     "metadata": {},
     "output_type": "execute_result"
    }
   ],
   "source": [
    "x+y"
   ]
  },
  {
   "cell_type": "code",
   "execution_count": 27,
   "id": "604227c0-218f-43a0-8f81-bdf3048c5fee",
   "metadata": {},
   "outputs": [
    {
     "data": {
      "text/plain": [
       "int"
      ]
     },
     "execution_count": 27,
     "metadata": {},
     "output_type": "execute_result"
    }
   ],
   "source": [
    "type(x)"
   ]
  },
  {
   "cell_type": "code",
   "execution_count": 28,
   "id": "289228f5-4ee3-4d23-820c-e0258fdf6298",
   "metadata": {},
   "outputs": [
    {
     "data": {
      "text/plain": [
       "float"
      ]
     },
     "execution_count": 28,
     "metadata": {},
     "output_type": "execute_result"
    }
   ],
   "source": [
    "type(y)"
   ]
  },
  {
   "cell_type": "code",
   "execution_count": 29,
   "id": "b3c85ae0-1dc1-4349-a79d-5dfb59f60572",
   "metadata": {},
   "outputs": [
    {
     "data": {
      "text/plain": [
       "float"
      ]
     },
     "execution_count": 29,
     "metadata": {},
     "output_type": "execute_result"
    }
   ],
   "source": [
    "type(x+y)"
   ]
  },
  {
   "cell_type": "code",
   "execution_count": 36,
   "id": "8b16f97b-b65e-4fac-ac33-f6e290a2bade",
   "metadata": {},
   "outputs": [],
   "source": [
    "l=[4,5,45,6,True,5+1j]"
   ]
  },
  {
   "cell_type": "code",
   "execution_count": 37,
   "id": "854251f3-74bb-4436-b810-f11688564e1f",
   "metadata": {},
   "outputs": [
    {
     "data": {
      "text/plain": [
       "[4, 5, 45, 6, True, (5+1j)]"
      ]
     },
     "execution_count": 37,
     "metadata": {},
     "output_type": "execute_result"
    }
   ],
   "source": [
    "l"
   ]
  },
  {
   "cell_type": "code",
   "execution_count": 38,
   "id": "c3aa4f21-9fd5-47f0-b425-ad60c385a0f4",
   "metadata": {},
   "outputs": [
    {
     "data": {
      "text/plain": [
       "list"
      ]
     },
     "execution_count": 38,
     "metadata": {},
     "output_type": "execute_result"
    }
   ],
   "source": [
    "type(l)"
   ]
  },
  {
   "cell_type": "code",
   "execution_count": 44,
   "id": "5efac012-a293-4cc1-b237-8facdb95483b",
   "metadata": {},
   "outputs": [],
   "source": [
    "####answer-4-Write a Code like print(\"This is awesome\") then save it in .py format\n",
    "####open the command line find the locationof the saved file and run it."
   ]
  },
  {
   "cell_type": "code",
   "execution_count": 56,
   "id": "b9fb6750-63bb-4db6-bb74-0d53eb6e0acb",
   "metadata": {},
   "outputs": [],
   "source": [
    "##answer-\n",
    "\n",
    "my_list=[1,2,3,4,5]"
   ]
  },
  {
   "cell_type": "code",
   "execution_count": 46,
   "id": "bf46b45a-6664-4fc9-b77a-b628235092c7",
   "metadata": {},
   "outputs": [
    {
     "data": {
      "text/plain": [
       "[1, 2, 3, 4, 5]"
      ]
     },
     "execution_count": 46,
     "metadata": {},
     "output_type": "execute_result"
    }
   ],
   "source": [
    "my_list"
   ]
  },
  {
   "cell_type": "code",
   "execution_count": 49,
   "id": "4fb5ae9e-4c1f-430b-8f43-994f82b0862f",
   "metadata": {},
   "outputs": [],
   "source": [
    "my_list.remove(1)"
   ]
  },
  {
   "cell_type": "code",
   "execution_count": 50,
   "id": "8ef6f78b-5f93-4163-bd5e-ebfab2c2da2b",
   "metadata": {},
   "outputs": [],
   "source": [
    "my_list.remove(4)"
   ]
  },
  {
   "cell_type": "code",
   "execution_count": 51,
   "id": "565f959e-e4f2-4f03-a110-31aeee2270bf",
   "metadata": {},
   "outputs": [],
   "source": [
    "my_list.remove(5)"
   ]
  },
  {
   "cell_type": "code",
   "execution_count": 52,
   "id": "5db62a33-22cc-45a5-8dac-adac8a6f567d",
   "metadata": {},
   "outputs": [
    {
     "data": {
      "text/plain": [
       "[2, 3]"
      ]
     },
     "execution_count": 52,
     "metadata": {},
     "output_type": "execute_result"
    }
   ],
   "source": [
    "my_list"
   ]
  },
  {
   "cell_type": "code",
   "execution_count": 61,
   "id": "ee8ba4b4-41c6-4b23-bf6a-219f038d0a42",
   "metadata": {},
   "outputs": [],
   "source": [
    "###answer 6\n",
    "\n",
    "a=5+5j"
   ]
  },
  {
   "cell_type": "code",
   "execution_count": 59,
   "id": "4fc3cc3b-ff70-4cc4-9f28-dadc7f674d57",
   "metadata": {},
   "outputs": [
    {
     "data": {
      "text/plain": [
       "(5+5j)"
      ]
     },
     "execution_count": 59,
     "metadata": {},
     "output_type": "execute_result"
    }
   ],
   "source": [
    "a"
   ]
  },
  {
   "cell_type": "code",
   "execution_count": 60,
   "id": "888c7842-a82b-4579-b7d4-b01a7e5491cc",
   "metadata": {},
   "outputs": [
    {
     "data": {
      "text/plain": [
       "complex"
      ]
     },
     "execution_count": 60,
     "metadata": {},
     "output_type": "execute_result"
    }
   ],
   "source": [
    "type(a)"
   ]
  },
  {
   "cell_type": "code",
   "execution_count": 64,
   "id": "3623530c-a6a4-469c-a2d6-6393f5e1d61d",
   "metadata": {},
   "outputs": [],
   "source": [
    "##answer-7\n",
    "\n",
    "age=25"
   ]
  },
  {
   "cell_type": "code",
   "execution_count": 63,
   "id": "c8e3c13c-7ff9-4824-940e-ba0d54a70337",
   "metadata": {},
   "outputs": [
    {
     "data": {
      "text/plain": [
       "25"
      ]
     },
     "execution_count": 63,
     "metadata": {},
     "output_type": "execute_result"
    }
   ],
   "source": [
    "age"
   ]
  },
  {
   "cell_type": "code",
   "execution_count": 65,
   "id": "d88215bc-b18c-40d1-bb53-fa3744954485",
   "metadata": {},
   "outputs": [],
   "source": [
    "##answer-8\n",
    "\n",
    "price=9.99"
   ]
  },
  {
   "cell_type": "code",
   "execution_count": 66,
   "id": "df032303-60e1-45f0-9adc-77fd8cca8d06",
   "metadata": {},
   "outputs": [
    {
     "data": {
      "text/plain": [
       "9.99"
      ]
     },
     "execution_count": 66,
     "metadata": {},
     "output_type": "execute_result"
    }
   ],
   "source": [
    "price"
   ]
  },
  {
   "cell_type": "code",
   "execution_count": 67,
   "id": "e5c9d1ea-6ec6-4e88-9fcb-6533c3b0dde2",
   "metadata": {},
   "outputs": [
    {
     "data": {
      "text/plain": [
       "float"
      ]
     },
     "execution_count": 67,
     "metadata": {},
     "output_type": "execute_result"
    }
   ],
   "source": [
    "type(price)"
   ]
  },
  {
   "cell_type": "code",
   "execution_count": 68,
   "id": "25cbab32-89e5-499e-bf02-184acae43553",
   "metadata": {},
   "outputs": [
    {
     "name": "stdout",
     "output_type": "stream",
     "text": [
      "vishal nautiyal\n"
     ]
    }
   ],
   "source": [
    "##answer-9\n",
    "\n",
    "\n",
    "name=\"vishal nautiyal\"\n",
    "print(name)"
   ]
  },
  {
   "cell_type": "code",
   "execution_count": 69,
   "id": "e9d03bda-1f72-443a-b5fd-ef1566828143",
   "metadata": {},
   "outputs": [
    {
     "data": {
      "text/plain": [
       "str"
      ]
     },
     "execution_count": 69,
     "metadata": {},
     "output_type": "execute_result"
    }
   ],
   "source": [
    "type(name)"
   ]
  },
  {
   "cell_type": "code",
   "execution_count": 77,
   "id": "3c15bc3d-eb4c-497a-8054-1a6b139a3de8",
   "metadata": {},
   "outputs": [],
   "source": [
    "###answer-10\n",
    "\n",
    "\n",
    "a=\"Hello World\""
   ]
  },
  {
   "cell_type": "code",
   "execution_count": 71,
   "id": "ccf27376-530a-4a4d-89c8-1b405353814a",
   "metadata": {},
   "outputs": [
    {
     "data": {
      "text/plain": [
       "'Hello World'"
      ]
     },
     "execution_count": 71,
     "metadata": {},
     "output_type": "execute_result"
    }
   ],
   "source": [
    "a"
   ]
  },
  {
   "cell_type": "code",
   "execution_count": 75,
   "id": "0835eeb4-0aa8-45ce-b0d4-d504b96a5c07",
   "metadata": {},
   "outputs": [],
   "source": [
    "b=a[6:11]"
   ]
  },
  {
   "cell_type": "code",
   "execution_count": 78,
   "id": "11ece227-298f-4481-b428-79c8e7bb6871",
   "metadata": {},
   "outputs": [
    {
     "data": {
      "text/plain": [
       "'World'"
      ]
     },
     "execution_count": 78,
     "metadata": {},
     "output_type": "execute_result"
    }
   ],
   "source": [
    "b"
   ]
  },
  {
   "cell_type": "code",
   "execution_count": null,
   "id": "a2493847-ceb7-44f7-bc47-4550d1d061ae",
   "metadata": {},
   "outputs": [],
   "source": [
    "###answer-11\n",
    "\n",
    "\n",
    "is_"
   ]
  }
 ],
 "metadata": {
  "kernelspec": {
   "display_name": "Python 3 (ipykernel)",
   "language": "python",
   "name": "python3"
  },
  "language_info": {
   "codemirror_mode": {
    "name": "ipython",
    "version": 3
   },
   "file_extension": ".py",
   "mimetype": "text/x-python",
   "name": "python",
   "nbconvert_exporter": "python",
   "pygments_lexer": "ipython3",
   "version": "3.10.8"
  }
 },
 "nbformat": 4,
 "nbformat_minor": 5
}
